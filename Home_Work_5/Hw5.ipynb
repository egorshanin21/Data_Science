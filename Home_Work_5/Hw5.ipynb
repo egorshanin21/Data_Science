{
 "cells": [
  {
   "cell_type": "code",
   "execution_count": 8,
   "outputs": [
    {
     "name": "stdout",
     "output_type": "stream",
     "text": [
      "SVM Results:\n",
      "Accuracy: 0.9025270758122743\n",
      "Confusion Matrix:\n",
      " [[ 612    0    0    0]\n",
      " [   0 1912    0  154]\n",
      " [  12    9    0   73]\n",
      " [   0  130    0  976]]\n",
      "Some classes have no predictions in SVM.\n",
      "\n",
      "Random Forest Results:\n",
      "Accuracy: 0.9886539453326457\n",
      "Confusion Matrix:\n",
      " [[ 612    0    0    0]\n",
      " [   0 2057    0    9]\n",
      " [   1    4   78   11]\n",
      " [   0   19    0 1087]]\n",
      "Classification Report:\n",
      "               precision    recall  f1-score   support\n",
      "\n",
      "        idle       1.00      1.00      1.00       612\n",
      "     running       0.99      1.00      0.99      2066\n",
      "      stairs       1.00      0.83      0.91        94\n",
      "     walking       0.98      0.98      0.98      1106\n",
      "\n",
      "    accuracy                           0.99      3878\n",
      "   macro avg       0.99      0.95      0.97      3878\n",
      "weighted avg       0.99      0.99      0.99      3878\n"
     ]
    }
   ],
   "source": [
    "import pandas as pd\n",
    "import numpy as np\n",
    "from sklearn.model_selection import train_test_split\n",
    "from sklearn.preprocessing import StandardScaler\n",
    "from sklearn.svm import SVC\n",
    "from sklearn.ensemble import RandomForestClassifier\n",
    "from sklearn.metrics import accuracy_score, confusion_matrix, classification_report\n",
    "import os\n",
    "\n",
    "\n",
    "\n",
    "# Створюємо порожній список для збереження всіх даних\n",
    "data = []\n",
    "\n",
    "# Перебираємо активності\n",
    "activities = [\"idle\", \"running\", \"stairs\", \"walking\"]\n",
    "for activity in activities:\n",
    "    activity_folder = os.path.join(\"data\", activity)\n",
    "    \n",
    "    # Перебираємо файли в папці активності\n",
    "    for filename in os.listdir(activity_folder):\n",
    "        if filename.endswith(\".csv\"):\n",
    "            file_path = os.path.join(activity_folder, filename)\n",
    "            \n",
    "            # Завантажуємо файл\n",
    "            df = pd.read_csv(file_path)\n",
    "            \n",
    "            # Розраховуємо часові ознаки\n",
    "            time_features = df[['accelerometer_X', 'accelerometer_Y', 'accelerometer_Z']]\n",
    "            time_features = time_features.agg(['mean', 'std', 'median', 'min', 'max']).T\n",
    "            time_features['activity'] = activity\n",
    "            data.append(time_features)\n",
    "\n",
    "# Об'єднуємо всі дані в один DataFrame\n",
    "data_df = pd.concat(data, ignore_index=True)\n",
    "\n",
    "# Розділення даних на навчальний і тестовий набори\n",
    "X = data_df.drop('activity', axis=1)\n",
    "y = data_df['activity']\n",
    "X_train, X_test, y_train, y_test = train_test_split(X, y, test_size=0.2, random_state=42)\n",
    "\n",
    "# Стандартизація ознак\n",
    "scaler = StandardScaler()\n",
    "X_train_scaled = scaler.fit_transform(X_train)\n",
    "X_test_scaled = scaler.transform(X_test)\n",
    "\n",
    "# Навчання моделей\n",
    "svm_model = SVC(kernel='linear')\n",
    "svm_model.fit(X_train_scaled, y_train)\n",
    "\n",
    "rf_model = RandomForestClassifier(n_estimators=100, random_state=42)\n",
    "rf_model.fit(X_train_scaled, y_train)\n",
    "\n",
    "# Оцінка моделей\n",
    "svm_pred = svm_model.predict(X_test_scaled)\n",
    "rf_pred = rf_model.predict(X_test_scaled)\n",
    "\n",
    "print(\"SVM Results:\")\n",
    "print(\"Accuracy:\", accuracy_score(y_test, svm_pred))\n",
    "print(\"Confusion Matrix:\\n\", confusion_matrix(y_test, svm_pred))\n",
    "if set(y_test) == set(svm_pred):\n",
    "    print(\"Classification Report:\\n\", classification_report(y_test, svm_pred))\n",
    "else:\n",
    "    print(\"Some classes have no predictions in SVM.\")\n",
    "\n",
    "print(\"\\nRandom Forest Results:\")\n",
    "print(\"Accuracy:\", accuracy_score(y_test, rf_pred))\n",
    "print(\"Confusion Matrix:\\n\", confusion_matrix(y_test, rf_pred))\n",
    "if set(y_test) == set(rf_pred):\n",
    "    print(\"Classification Report:\\n\", classification_report(y_test, rf_pred))\n",
    "else:\n",
    "    print(\"Some classes have no predictions in Random Forest.\")\n",
    "\n"
   ],
   "metadata": {
    "collapsed": false,
    "ExecuteTime": {
     "end_time": "2023-09-05T12:36:35.582931789Z",
     "start_time": "2023-09-05T12:36:08.015356618Z"
    }
   },
   "id": "cdaeb45e1d4b3709"
  },
  {
   "cell_type": "code",
   "execution_count": null,
   "outputs": [],
   "source": [],
   "metadata": {
    "collapsed": false
   },
   "id": "c08abafd23788b62"
  }
 ],
 "metadata": {
  "kernelspec": {
   "display_name": "Python 3",
   "language": "python",
   "name": "python3"
  },
  "language_info": {
   "codemirror_mode": {
    "name": "ipython",
    "version": 2
   },
   "file_extension": ".py",
   "mimetype": "text/x-python",
   "name": "python",
   "nbconvert_exporter": "python",
   "pygments_lexer": "ipython2",
   "version": "2.7.6"
  }
 },
 "nbformat": 4,
 "nbformat_minor": 5
}
