{
 "metadata": {
  "language_info": {
   "codemirror_mode": {
    "name": "python",
    "version": 3
   },
   "file_extension": ".py",
   "mimetype": "text/x-python",
   "name": "python",
   "nbconvert_exporter": "python",
   "pygments_lexer": "ipython3",
   "version": "3.8"
  },
  "kernelspec": {
   "name": "python3",
   "language": "python",
   "display_name": "Python 3 (ipykernel)"
  }
 },
 "nbformat_minor": 4,
 "nbformat": 4,
 "cells": [
  {
   "cell_type": "code",
   "execution_count": 21,
   "outputs": [],
   "source": [
    "%matplotlib inline\n",
    "import gdown\n",
    "import pandas as pd\n",
    "import matplotlib.pyplot as plt"
   ],
   "metadata": {
    "collapsed": false,
    "ExecuteTime": {
     "end_time": "2023-08-18T14:28:37.413598061Z",
     "start_time": "2023-08-18T14:28:37.374044371Z"
    }
   }
  },
  {
   "cell_type": "code",
   "execution_count": 22,
   "outputs": [
    {
     "name": "stderr",
     "output_type": "stream",
     "text": [
      "Downloading...\n",
      "From: https://drive.google.com/uc?id=1JMYqXipZpz9Y5-vyxvLEO2Y1sRBxqu-U\n",
      "To: /home/july/Course_GoIT/Data_Science/Home_Work_2/2017_jun_final.csv\n",
      "100%|██████████| 3.61M/3.61M [00:01<00:00, 3.56MB/s]\n"
     ]
    },
    {
     "data": {
      "text/plain": "'2017_jun_final.csv'"
     },
     "execution_count": 22,
     "metadata": {},
     "output_type": "execute_result"
    }
   ],
   "source": [
    "# Завантаження файлу з Google Диска\n",
    "url = \"https://drive.google.com/uc?id=1JMYqXipZpz9Y5-vyxvLEO2Y1sRBxqu-U\"\n",
    "output_path = \"2017_jun_final.csv\"\n",
    "gdown.download(url, output_path, quiet=False)"
   ],
   "metadata": {
    "collapsed": false,
    "ExecuteTime": {
     "end_time": "2023-08-18T14:28:39.845022938Z",
     "start_time": "2023-08-18T14:28:37.381836281Z"
    }
   }
  },
  {
   "cell_type": "code",
   "execution_count": 23,
   "outputs": [],
   "source": [
    "# 1. Прочитати файл\n",
    "df = pd.read_csv(\"2017_jun_final.csv\")"
   ],
   "metadata": {
    "collapsed": false,
    "ExecuteTime": {
     "end_time": "2023-08-18T14:28:39.892321165Z",
     "start_time": "2023-08-18T14:28:39.847467352Z"
    }
   }
  },
  {
   "cell_type": "code",
   "execution_count": 24,
   "outputs": [
    {
     "name": "stdout",
     "output_type": "stream",
     "text": [
      "   N                 Должность Язык.программирования Специализация  \\\n",
      "0  1        Junior QA engineer                   NaN     Manual QA   \n",
      "1  2        Junior QA engineer                   NaN     Manual QA   \n",
      "2  3         Software Engineer               C#/.NET           NaN   \n",
      "3  4         Software Engineer            JavaScript           NaN   \n",
      "4  5  Senior Software Engineer            JavaScript           NaN   \n",
      "\n",
      "  Общий.опыт.работы Опыт.работы.на.текущем.месте  Зарплата.в.месяц  \\\n",
      "0               0.5                          0.5               400   \n",
      "1  меньше 3 месяцев             меньше 3 месяцев               430   \n",
      "2                 4                            1              2500   \n",
      "3                 5                            4              2000   \n",
      "4    10 и более лет                          0.5              4500   \n",
      "\n",
      "   Изменение.зарплаты.за.12.месяцев    Город     Размер.компании  ...  \\\n",
      "0                                 0  Харьков       до 10 человек  ...   \n",
      "1                               130  Харьков  свыше 1000 человек  ...   \n",
      "2                               800     Киев     до 1000 человек  ...   \n",
      "3                               400   Одесса      до 200 человек  ...   \n",
      "4                               500   Другой       до 10 человек  ...   \n",
      "\n",
      "  Еще.студент Уровень.английского                    Предметная.область  \\\n",
      "0        True       ниже среднего                         iOS,eCommerce   \n",
      "1        True       выше среднего                        Веб-разработка   \n",
      "2       False             средний  Веб-разработка,Корпоративные системы   \n",
      "3       False       ниже среднего   Desktop Applications,Веб-разработка   \n",
      "4       False             средний   Desktop Applications,Веб-разработка   \n",
      "\n",
      "       Дата.заполнения                                         User.Agent  \\\n",
      "0  12/06/2017 12:38:08  Mozilla/5.0 (Windows NT 10.0; Win64; x64) Appl...   \n",
      "1  12/06/2017 12:42:51  Mozilla/5.0 (iPad; CPU OS 10_2_1 like Mac OS X...   \n",
      "2  12/06/2017 13:02:47  Mozilla/5.0 (Windows NT 10.0; Win64; x64) Appl...   \n",
      "3  12/06/2017 13:03:01  Mozilla/5.0 (Windows NT 6.1; Win64; x64) Apple...   \n",
      "4  12/06/2017 13:03:47  Mozilla/5.0 (iPhone; CPU iPhone OS 10_3_2 like...   \n",
      "\n",
      "    exp current_job_exp salary Валюта  cls  \n",
      "0   0.5             0.5    400    NaN   QA  \n",
      "1   0.0             0.0    430    NaN   QA  \n",
      "2   4.0             1.0   2500    NaN  DEV  \n",
      "3   5.0             4.0   2000    NaN  DEV  \n",
      "4  10.0             0.5   4500    NaN  DEV  \n",
      "\n",
      "[5 rows x 25 columns]\n"
     ]
    }
   ],
   "source": [
    "# 2. Вивести перші декілька рядків\n",
    "print(df.head())"
   ],
   "metadata": {
    "collapsed": false,
    "ExecuteTime": {
     "end_time": "2023-08-18T14:28:39.944598528Z",
     "start_time": "2023-08-18T14:28:39.897169126Z"
    }
   }
  },
  {
   "cell_type": "code",
   "execution_count": 25,
   "outputs": [
    {
     "name": "stdout",
     "output_type": "stream",
     "text": [
      "Shape: (8704, 25)\n"
     ]
    }
   ],
   "source": [
    "# 3. Визначити розмір таблиці\n",
    "print(\"Shape:\", df.shape)"
   ],
   "metadata": {
    "collapsed": false,
    "ExecuteTime": {
     "end_time": "2023-08-18T14:28:39.944979831Z",
     "start_time": "2023-08-18T14:28:39.940354277Z"
    }
   }
  },
  {
   "cell_type": "code",
   "execution_count": 26,
   "outputs": [
    {
     "name": "stdout",
     "output_type": "stream",
     "text": [
      "Column Types:\n",
      "N                                     int64\n",
      "Должность                            object\n",
      "Язык.программирования                object\n",
      "Специализация                        object\n",
      "Общий.опыт.работы                    object\n",
      "Опыт.работы.на.текущем.месте         object\n",
      "Зарплата.в.месяц                      int64\n",
      "Изменение.зарплаты.за.12.месяцев      int64\n",
      "Город                                object\n",
      "Размер.компании                      object\n",
      "Тип.компании                         object\n",
      "Пол                                  object\n",
      "Возраст                               int64\n",
      "Образование                          object\n",
      "Университет                          object\n",
      "Еще.студент                            bool\n",
      "Уровень.английского                  object\n",
      "Предметная.область                   object\n",
      "Дата.заполнения                      object\n",
      "User.Agent                           object\n",
      "exp                                 float64\n",
      "current_job_exp                     float64\n",
      "salary                                int64\n",
      "Валюта                               object\n",
      "cls                                  object\n",
      "dtype: object\n"
     ]
    }
   ],
   "source": [
    "# 4. Визначити типи стовпців\n",
    "print(\"Column Types:\")\n",
    "print(df.dtypes)"
   ],
   "metadata": {
    "collapsed": false,
    "ExecuteTime": {
     "end_time": "2023-08-18T14:28:39.945184655Z",
     "start_time": "2023-08-18T14:28:39.940531508Z"
    }
   }
  },
  {
   "cell_type": "code",
   "execution_count": 27,
   "outputs": [
    {
     "name": "stdout",
     "output_type": "stream",
     "text": [
      "Missing Percent:\n",
      "N                                    0.000000\n",
      "Должность                            0.000000\n",
      "Язык.программирования               44.232537\n",
      "Специализация                       82.938879\n",
      "Общий.опыт.работы                    0.000000\n",
      "Опыт.работы.на.текущем.месте         0.000000\n",
      "Зарплата.в.месяц                     0.000000\n",
      "Изменение.зарплаты.за.12.месяцев     0.000000\n",
      "Город                                0.000000\n",
      "Размер.компании                      0.000000\n",
      "Тип.компании                         0.000000\n",
      "Пол                                  0.000000\n",
      "Возраст                              0.000000\n",
      "Образование                          0.000000\n",
      "Университет                          4.113051\n",
      "Еще.студент                          0.000000\n",
      "Уровень.английского                  0.000000\n",
      "Предметная.область                   2.562040\n",
      "Дата.заполнения                      0.000000\n",
      "User.Agent                           0.000000\n",
      "exp                                  0.000000\n",
      "current_job_exp                      0.000000\n",
      "salary                               0.000000\n",
      "Валюта                              99.885110\n",
      "cls                                 18.083640\n",
      "dtype: float64\n"
     ]
    }
   ],
   "source": [
    "# 5. Порахувати частку пропусків\n",
    "missing_percent = df.isnull().sum() / len(df) * 100\n",
    "print(\"Missing Percent:\")\n",
    "print(missing_percent)"
   ],
   "metadata": {
    "collapsed": false,
    "ExecuteTime": {
     "end_time": "2023-08-18T14:28:39.945382725Z",
     "start_time": "2023-08-18T14:28:39.940660780Z"
    }
   }
  },
  {
   "cell_type": "code",
   "execution_count": 28,
   "outputs": [],
   "source": [
    "# 6. Видалити стовпці з пропусками (крім стовпця \"Язык.программирования\")\n",
    "columns_to_keep = [\"Язык.программирования\"]\n",
    "df_cleaned = df.dropna(subset=columns_to_keep, how=\"any\")"
   ],
   "metadata": {
    "collapsed": false,
    "ExecuteTime": {
     "end_time": "2023-08-18T14:28:39.945482752Z",
     "start_time": "2023-08-18T14:28:39.940822673Z"
    }
   }
  },
  {
   "cell_type": "code",
   "execution_count": 29,
   "outputs": [
    {
     "name": "stdout",
     "output_type": "stream",
     "text": [
      "Missing Percent After Cleaning:\n",
      "N                                    0.000000\n",
      "Должность                            0.000000\n",
      "Язык.программирования                0.000000\n",
      "Специализация                       99.979398\n",
      "Общий.опыт.работы                    0.000000\n",
      "Опыт.работы.на.текущем.месте         0.000000\n",
      "Зарплата.в.месяц                     0.000000\n",
      "Изменение.зарплаты.за.12.месяцев     0.000000\n",
      "Город                                0.000000\n",
      "Размер.компании                      0.000000\n",
      "Тип.компании                         0.000000\n",
      "Пол                                  0.000000\n",
      "Возраст                              0.000000\n",
      "Образование                          0.000000\n",
      "Университет                          4.758962\n",
      "Еще.студент                          0.000000\n",
      "Уровень.английского                  0.000000\n",
      "Предметная.область                   0.618047\n",
      "Дата.заполнения                      0.000000\n",
      "User.Agent                           0.000000\n",
      "exp                                  0.000000\n",
      "current_job_exp                      0.000000\n",
      "salary                               0.000000\n",
      "Валюта                              99.835187\n",
      "cls                                  0.164813\n",
      "dtype: float64\n"
     ]
    }
   ],
   "source": [
    "# 7. Порахувати частку пропусків після видалення\n",
    "missing_percent_cleaned = df_cleaned.isnull().sum() / len(df_cleaned) * 100\n",
    "print(\"Missing Percent After Cleaning:\")\n",
    "print(missing_percent_cleaned)"
   ],
   "metadata": {
    "collapsed": false,
    "ExecuteTime": {
     "end_time": "2023-08-18T14:28:40.016858880Z",
     "start_time": "2023-08-18T14:28:39.984228798Z"
    }
   }
  },
  {
   "cell_type": "code",
   "execution_count": 30,
   "outputs": [],
   "source": [
    "# 8. Видалити рядки з пропусками\n",
    "df_no_missing_rows = df.dropna()"
   ],
   "metadata": {
    "collapsed": false,
    "ExecuteTime": {
     "end_time": "2023-08-18T14:28:40.017138984Z",
     "start_time": "2023-08-18T14:28:39.984770231Z"
    }
   }
  },
  {
   "cell_type": "code",
   "execution_count": 31,
   "outputs": [
    {
     "name": "stdout",
     "output_type": "stream",
     "text": [
      "Shape after dropping missing rows: (0, 25)\n"
     ]
    }
   ],
   "source": [
    "# 9. Визначити розмір після видалення рядків\n",
    "print(\"Shape after dropping missing rows:\", df_no_missing_rows.shape)"
   ],
   "metadata": {
    "collapsed": false,
    "ExecuteTime": {
     "end_time": "2023-08-18T14:28:40.017386096Z",
     "start_time": "2023-08-18T14:28:39.985023485Z"
    }
   }
  },
  {
   "cell_type": "code",
   "execution_count": 32,
   "outputs": [],
   "source": [
    "# 10. Відібрати рядки з Python\n",
    "python_data = df[df[\"Язык.программирования\"] == \"Python\"]"
   ],
   "metadata": {
    "collapsed": false,
    "ExecuteTime": {
     "end_time": "2023-08-18T14:28:40.017479962Z",
     "start_time": "2023-08-18T14:28:39.985284583Z"
    }
   }
  },
  {
   "cell_type": "code",
   "execution_count": 33,
   "outputs": [
    {
     "name": "stdout",
     "output_type": "stream",
     "text": [
      "Shape of python_data: (207, 25)\n"
     ]
    }
   ],
   "source": [
    "# 11. Визначити розмір таблиці python_data\n",
    "print(\"Shape of python_data:\", python_data.shape)"
   ],
   "metadata": {
    "collapsed": false,
    "ExecuteTime": {
     "end_time": "2023-08-18T14:28:40.017626666Z",
     "start_time": "2023-08-18T14:28:39.985535493Z"
    }
   }
  },
  {
   "cell_type": "code",
   "execution_count": 34,
   "outputs": [],
   "source": [
    "# 12. Згрупувати за стовпцем \"Должность\"\n",
    "grouped = df.groupby(\"Должность\")"
   ],
   "metadata": {
    "collapsed": false,
    "ExecuteTime": {
     "end_time": "2023-08-18T14:28:40.017715913Z",
     "start_time": "2023-08-18T14:28:39.985841055Z"
    }
   }
  },
  {
   "cell_type": "code",
   "execution_count": 35,
   "outputs": [],
   "source": [
    "# 13. Виконати агрегацію для групованих даних\n",
    "aggregated = grouped.agg({\"Зарплата.в.месяц\": [\"min\", \"max\"]})"
   ],
   "metadata": {
    "collapsed": false,
    "ExecuteTime": {
     "end_time": "2023-08-18T14:28:40.072963783Z",
     "start_time": "2023-08-18T14:28:39.986000744Z"
    }
   }
  },
  {
   "cell_type": "code",
   "execution_count": 36,
   "outputs": [],
   "source": [
    "# 14. Створити функцію fill_avg_salary\n",
    "def fill_avg_salary(row):\n",
    "    return (row[\"Зарплата.в.месяц\"][\"min\"] + row[\"Зарплата.в.месяц\"][\"max\"]) / 2"
   ],
   "metadata": {
    "collapsed": false,
    "ExecuteTime": {
     "end_time": "2023-08-18T14:28:40.073397594Z",
     "start_time": "2023-08-18T14:28:40.028508607Z"
    }
   }
  },
  {
   "cell_type": "code",
   "execution_count": 37,
   "outputs": [],
   "source": [
    "# Додати новий стовпець \"avg\"\n",
    "aggregated[\"avg\"] = aggregated.apply(fill_avg_salary, axis=1)"
   ],
   "metadata": {
    "collapsed": false,
    "ExecuteTime": {
     "end_time": "2023-08-18T14:28:40.073594462Z",
     "start_time": "2023-08-18T14:28:40.028846609Z"
    }
   }
  },
  {
   "cell_type": "code",
   "execution_count": 38,
   "outputs": [
    {
     "name": "stdout",
     "output_type": "stream",
     "text": [
      "count       32.000000\n",
      "mean      3449.234375\n",
      "std       3093.885174\n",
      "min        900.000000\n",
      "25%       1820.500000\n",
      "50%       2837.500000\n",
      "75%       3756.250000\n",
      "max      17750.000000\n",
      "Name: avg, dtype: float64\n"
     ]
    }
   ],
   "source": [
    "# 15. Описова статистика для нового стовпця\n",
    "print(aggregated[\"avg\"].describe())"
   ],
   "metadata": {
    "collapsed": false,
    "ExecuteTime": {
     "end_time": "2023-08-18T14:28:40.073958363Z",
     "start_time": "2023-08-18T14:28:40.029074485Z"
    }
   }
  },
  {
   "cell_type": "code",
   "execution_count": 39,
   "outputs": [],
   "source": [
    "# 16. Зберегти таблицю в CSV файл\n",
    "aggregated.to_csv(\"aggregated_data.csv\", index=False)"
   ],
   "metadata": {
    "collapsed": false,
    "ExecuteTime": {
     "end_time": "2023-08-18T14:28:40.074189125Z",
     "start_time": "2023-08-18T14:28:40.029274360Z"
    }
   }
  },
  {
   "cell_type": "code",
   "execution_count": 40,
   "outputs": [
    {
     "data": {
      "text/plain": "<Figure size 1200x800 with 0 Axes>"
     },
     "execution_count": 40,
     "metadata": {},
     "output_type": "execute_result"
    },
    {
     "data": {
      "text/plain": "<Figure size 1200x800 with 0 Axes>"
     },
     "metadata": {},
     "output_type": "display_data"
    }
   ],
   "source": [
    "# Побудова графіків\n",
    "plt.figure(figsize=(12, 8))"
   ],
   "metadata": {
    "collapsed": false,
    "ExecuteTime": {
     "end_time": "2023-08-18T14:28:40.074950068Z",
     "start_time": "2023-08-18T14:28:40.029405625Z"
    }
   }
  },
  {
   "cell_type": "code",
   "execution_count": 41,
   "outputs": [
    {
     "data": {
      "text/plain": "Text(0.5, 1.0, 'Розподіл зарплат за місяць')"
     },
     "execution_count": 41,
     "metadata": {},
     "output_type": "execute_result"
    },
    {
     "data": {
      "text/plain": "<Figure size 640x480 with 1 Axes>",
      "image/png": "[encoded data removed]"
     },
     "metadata": {},
     "output_type": "display_data"
    }
   ],
   "source": [
    "# Графік 1: Розподіл зарплат\n",
    "plt.subplot(2, 2, 1)\n",
    "plt.hist(df_cleaned[\"Зарплата.в.месяц\"], bins=20, edgecolor='black', alpha=0.7)\n",
    "plt.xlabel(\"Зарплата в місяць\")\n",
    "plt.ylabel(\"Частота\")\n",
    "plt.title(\"Розподіл зарплат за місяць\")"
   ],
   "metadata": {
    "collapsed": false,
    "ExecuteTime": {
     "end_time": "2023-08-18T14:28:40.179890843Z",
     "start_time": "2023-08-18T14:28:40.040351946Z"
    }
   }
  },
  {
   "cell_type": "code",
   "execution_count": 42,
   "outputs": [
    {
     "data": {
      "text/plain": "Text(0.5, 1.0, 'Залежність зарплати від віку')"
     },
     "execution_count": 42,
     "metadata": {},
     "output_type": "execute_result"
    },
    {
     "data": {
      "text/plain": "<Figure size 640x480 with 1 Axes>",
      "image/png": "[encoded data removed]"
     },
     "metadata": {},
     "output_type": "display_data"
    }
   ],
   "source": [
    "# Графік 2: Залежність між зарплатою та віком\n",
    "plt.subplot(2, 2, 2)\n",
    "plt.scatter(df_cleaned[\"Возраст\"], df_cleaned[\"Зарплата.в.месяц\"], alpha=0.7)\n",
    "plt.xlabel(\"Вік\")\n",
    "plt.ylabel(\"Зарплата в місяць\")\n",
    "plt.title(\"Залежність зарплати від віку\")"
   ],
   "metadata": {
    "collapsed": false,
    "ExecuteTime": {
     "end_time": "2023-08-18T14:28:40.360613956Z",
     "start_time": "2023-08-18T14:28:40.178506934Z"
    }
   }
  },
  {
   "cell_type": "code",
   "execution_count": 43,
   "outputs": [
    {
     "data": {
      "text/plain": "(array([ 0,  1,  2,  3,  4,  5,  6,  7,  8,  9, 10]),\n [Text(0, 0, 'Software Engineer'),\n  Text(1, 0, 'Junior Software Engineer'),\n  Text(2, 0, 'Senior Software Engineer'),\n  Text(3, 0, 'Technical Lead'),\n  Text(4, 0, 'System Architect'),\n  Text(5, 0, 'HTML coder'),\n  Text(6, 0, 'Team lead'),\n  Text(7, 0, 'Data Scientist / Data Analyst'),\n  Text(8, 0, 'DevOps'),\n  Text(9, 0, 'Product Manager'),\n  Text(10, 0, 'ERP / CRM')])"
     },
     "execution_count": 43,
     "metadata": {},
     "output_type": "execute_result"
    },
    {
     "data": {
      "text/plain": "<Figure size 640x480 with 1 Axes>",
      "image/png": "[encoded data removed]"
     },
     "metadata": {},
     "output_type": "display_data"
    }
   ],
   "source": [
    "# Графік 3: Розподіл зарплат за позиціями\n",
    "plt.subplot(2, 2, 3)\n",
    "aggregated.reset_index(inplace=True)\n",
    "position_counts = df_cleaned[\"Должность\"].value_counts()\n",
    "position_counts.plot(kind=\"bar\")\n",
    "plt.xlabel(\"Позиція\")\n",
    "plt.ylabel(\"Кількість співробітників\")\n",
    "plt.title(\"Кількість співробітників за позицією\")\n",
    "plt.xticks(rotation=45)"
   ],
   "metadata": {
    "collapsed": false,
    "ExecuteTime": {
     "end_time": "2023-08-18T14:28:40.442521605Z",
     "start_time": "2023-08-18T14:28:40.340233865Z"
    }
   }
  },
  {
   "cell_type": "code",
   "execution_count": 44,
   "outputs": [
    {
     "data": {
      "text/plain": "Text(0.5, 1.0, 'Розподіл середнього значення зарплати за позиціями')"
     },
     "execution_count": 44,
     "metadata": {},
     "output_type": "execute_result"
    },
    {
     "data": {
      "text/plain": "<Figure size 640x480 with 1 Axes>",
      "image/png": "[encoded data removed]"
     },
     "metadata": {},
     "output_type": "display_data"
    }
   ],
   "source": [
    "# Графік 4: Графік описової статистики нового стовпця\n",
    "plt.subplot(2, 2, 4)\n",
    "plt.hist(aggregated[\"avg\"], bins=15, edgecolor='black', alpha=0.7)\n",
    "plt.xlabel(\"Середнє значення зарплати\")\n",
    "plt.ylabel(\"Частота\")\n",
    "plt.title(\"Розподіл середнього значення зарплати за позиціями\")"
   ],
   "metadata": {
    "collapsed": false,
    "ExecuteTime": {
     "end_time": "2023-08-18T14:28:40.557276482Z",
     "start_time": "2023-08-18T14:28:40.441925119Z"
    }
   }
  },
  {
   "cell_type": "code",
   "execution_count": 45,
   "outputs": [
    {
     "data": {
      "text/plain": "<Figure size 640x480 with 0 Axes>"
     },
     "metadata": {},
     "output_type": "display_data"
    }
   ],
   "source": [
    "# Відображення графіків\n",
    "plt.tight_layout()\n",
    "plt.show()"
   ],
   "metadata": {
    "collapsed": false,
    "ExecuteTime": {
     "end_time": "2023-08-18T14:28:40.672944036Z",
     "start_time": "2023-08-18T14:28:40.606509276Z"
    }
   }
  }
 ]
}
