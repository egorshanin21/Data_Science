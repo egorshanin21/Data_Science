{
 "cells": [
  {
   "cell_type": "code",
   "execution_count": null,
   "id": "initial_id",
   "metadata": {
    "collapsed": true
   },
   "outputs": [],
   "source": [
    "import numpy as np\n",
    "import tensorflow as tf\n",
    "import matplotlib.pyplot as plt\n",
    "from tensorflow.keras import datasets, models\n",
    "from tensorflow.keras.layers import Dense, Dropout, Flatten\n",
    "from tensorflow.keras.applications import VGG16"
   ]
  },
  {
   "cell_type": "code",
   "execution_count": null,
   "outputs": [],
   "source": [
    "(train_images, train_labels), (test_images, test_labels) = datasets.fashion_mnist.load_data()\n",
    "train_images = np.repeat(train_images[..., np.newaxis], 3, -1)\n",
    "train_images = tf.image.resize(train_images, (32, 32)) / 255.0\n",
    "test_images = np.repeat(test_images[..., np.newaxis], 3, -1)\n",
    "test_images = tf.image.resize(test_images, (32, 32)) / 255.0"
   ],
   "metadata": {
    "collapsed": false
   },
   "id": "820ee45281faace5"
  },
  {
   "cell_type": "code",
   "execution_count": null,
   "outputs": [],
   "source": [
    "base_model = VGG16(weights='imagenet', include_top=False, input_shape=(32, 32, 3))"
   ],
   "metadata": {
    "collapsed": false
   },
   "id": "c600025695fb9981"
  },
  {
   "cell_type": "code",
   "execution_count": null,
   "outputs": [],
   "source": [
    "model = models.Sequential([\n",
    "    base_model,\n",
    "    Flatten(),\n",
    "    Dense(512, activation='relu'),\n",
    "    Dropout(0.5),\n",
    "    Dense(256, activation='relu'),\n",
    "    Dropout(0.5),\n",
    "    Dense(10, activation='softmax')\n",
    "])"
   ],
   "metadata": {
    "collapsed": false
   },
   "id": "f4a51888dc7ec4b8"
  },
  {
   "cell_type": "code",
   "execution_count": null,
   "outputs": [],
   "source": [
    "model.compile(optimizer='adam',\n",
    "              loss='sparse_categorical_crossentropy',\n",
    "              metrics=['accuracy'])"
   ],
   "metadata": {
    "collapsed": false
   },
   "id": "28fbcecf49eebc13"
  },
  {
   "cell_type": "code",
   "execution_count": null,
   "outputs": [],
   "source": [
    "model.summary()"
   ],
   "metadata": {
    "collapsed": false
   },
   "id": "8499289053dba41c"
  },
  {
   "cell_type": "code",
   "execution_count": null,
   "outputs": [],
   "source": [
    "epochs = 10\n",
    "batch_size = 64\n",
    "history_additional = model.fit(train_images, train_labels, epochs=epochs, batch_size=batch_size, validation_data=(test_images, test_labels))"
   ],
   "metadata": {
    "collapsed": false
   },
   "id": "fcb36d950422989b"
  },
  {
   "cell_type": "code",
   "execution_count": null,
   "outputs": [],
   "source": [
    "test_loss, test_acc = model.evaluate(test_images, test_labels, verbose=2)\n",
    "print(f\"\\nТочність на тестових даних: {test_acc}\")"
   ],
   "metadata": {
    "collapsed": false
   },
   "id": "8c4b83137cf3661a"
  },
  {
   "cell_type": "code",
   "execution_count": null,
   "outputs": [],
   "source": [
    "acc = history_additional.history['accuracy']\n",
    "val_acc = history_additional.history['val_accuracy']\n",
    "loss = history_additional.history['loss']\n",
    "val_loss = history_additional.history['val_loss']\n",
    "\n",
    "epochs_range = range(epochs)\n",
    "\n",
    "plt.figure(figsize=(16, 4))\n",
    "plt.subplot(1, 2, 1)\n",
    "plt.plot(epochs_range, acc, label='Точність на навчанні')\n",
    "plt.plot(epochs_range, val_acc, label='Точність на валідації')\n",
    "plt.legend(loc='lower right')\n",
    "plt.title('Точність на навчанні і валідації')\n",
    "\n",
    "plt.subplot(1, 2, 2)\n",
    "plt.plot(epochs_range, loss, label='Втрати на навчанні')\n",
    "plt.plot(epochs_range, val_loss, label='Втрати на валідації')\n",
    "plt.legend(loc='upper right')\n",
    "plt.title('Втрати на навчанні і валідації')\n",
    "\n",
    "plt.show()\n",
    "\n",
    "for layer in base_model.layers:\n",
    "    layer.trainable = True\n",
    "\n",
    "model.compile(optimizer=tf.keras.optimizers.Adam(1e-5),\n",
    "              loss='sparse_categorical_crossentropy',\n",
    "              metrics=['accuracy'])\n",
    "\n",
    "fine_tune_epochs = 5\n",
    "total_epochs = epochs + fine_tune_epochs\n",
    "\n",
    "history_fine_tune = model.fit(train_images, train_labels, epochs=total_epochs, initial_epoch=history_additional.epoch[-1],\n",
    "                             validation_data=(test_images, test_labels))"
   ],
   "metadata": {
    "collapsed": false
   },
   "id": "179db6fbb8d3d806"
  },
  {
   "cell_type": "code",
   "execution_count": null,
   "outputs": [],
   "source": [
    "test_loss, test_acc = model.evaluate(test_images, test_labels, verbose=2)\n",
    "print(f\"\\nТочність на тестових даних: {test_acc}\")"
   ],
   "metadata": {
    "collapsed": false
   },
   "id": "3890444ed56bb62f"
  },
  {
   "cell_type": "code",
   "execution_count": 1,
   "outputs": [
    {
     "ename": "SyntaxError",
     "evalue": "invalid syntax (3084899626.py, line 1)",
     "output_type": "error",
     "traceback": [
      "\u001B[0;36m  Cell \u001B[0;32mIn[1], line 1\u001B[0;36m\u001B[0m\n\u001B[0;31m    Висновки:\u001B[0m\n\u001B[0m             ^\u001B[0m\n\u001B[0;31mSyntaxError\u001B[0m\u001B[0;31m:\u001B[0m invalid syntax\n"
     ]
    }
   ],
   "source": [
    "#Висновки:Модель CNN демонструє вищий рівень точності як на тестових, так і на валідаційних даних, порівняно з Fully Connected Neural Network. Це свідчить про те, що використання згорткових нейронних мереж для завдань обробки зображень дозволяє досягнути кращих результатів.\n",
    "#Fully Connected Neural Network також досягає досить високої точності, але в порівнянні з CNN, вона виявляється менш ефективною у вирішенні завдань класифікації зображень.\n",
    "#Загалом, для завдань класифікації зображень, особливо на великих наборах даних, CNN є більш підходящим вибором і зазвичай дає кращі результати завдяки своїм спеціалізованим згортковим та пулінговим шарам для виявлення різних ознак в зображеннях."
   ],
   "metadata": {
    "collapsed": false,
    "ExecuteTime": {
     "end_time": "2023-10-16T09:26:33.189128025Z",
     "start_time": "2023-10-16T09:26:33.169622780Z"
    }
   },
   "id": "d5f2577540d2fc86"
  }
 ],
 "metadata": {
  "kernelspec": {
   "display_name": "Python 3",
   "language": "python",
   "name": "python3"
  },
  "language_info": {
   "codemirror_mode": {
    "name": "ipython",
    "version": 2
   },
   "file_extension": ".py",
   "mimetype": "text/x-python",
   "name": "python",
   "nbconvert_exporter": "python",
   "pygments_lexer": "ipython2",
   "version": "2.7.6"
  }
 },
 "nbformat": 4,
 "nbformat_minor": 5
}
