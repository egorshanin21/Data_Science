{
 "cells": [
  {
   "cell_type": "code",
   "execution_count": null,
   "id": "initial_id",
   "metadata": {
    "collapsed": true
   },
   "outputs": [],
   "source": [
    "import tensorflow as tf\n",
    "from tensorflow import keras\n",
    "from tensorflow.keras import layers\n",
    "import matplotlib.pyplot as plt\n",
    "import pandas as pd\n",
    "import numpy as np"
   ]
  },
  {
   "cell_type": "code",
   "execution_count": null,
   "outputs": [],
   "source": [
    "(x_train, y_train), (x_test, y_test) = tf.keras.datasets.fashion_mnist.load_data()\n",
    "x_train, x_test = x_train / 255.0, x_test / 255.0 "
   ],
   "metadata": {
    "collapsed": false
   },
   "id": "3296be113057a008"
  },
  {
   "cell_type": "code",
   "execution_count": null,
   "outputs": [],
   "source": [
    "model = keras.Sequential()\n",
    "model.add(layers.Conv2D(32, (3, 3), activation='relu', input_shape=(28, 28, 1)))\n",
    "model.add(layers.MaxPooling2D((2, 2)))\n",
    "model.add(layers.Conv2D(64, (3, 3), activation='relu'))\n",
    "model.add(layers.MaxPooling2D((2, 2)))\n",
    "model.add(layers.Flatten())\n",
    "model.add(layers.Dense(128, activation='relu'))\n",
    "model.add(layers.Dense(10, activation='softmax'))"
   ],
   "metadata": {
    "collapsed": false
   },
   "id": "8be10221d74f49b"
  },
  {
   "cell_type": "code",
   "execution_count": null,
   "outputs": [],
   "source": [
    "model.compile(optimizer='adam',\n",
    "              loss='sparse_categorical_crossentropy',\n",
    "              metrics=['accuracy'])\n",
    "\n",
    "history = model.fit(x_train, y_train, epochs=10, batch_size=64, validation_data=(x_test, y_test))"
   ],
   "metadata": {
    "collapsed": false
   },
   "id": "fd370fc22445be53"
  },
  {
   "cell_type": "code",
   "execution_count": null,
   "outputs": [],
   "source": [
    "test_loss, test_acc = model.evaluate(x_test, y_test)\n",
    "print(f'Точність на тестових даних: {test_acc}')"
   ],
   "metadata": {
    "collapsed": false
   },
   "id": "b27b7490c41d48f6"
  },
  {
   "cell_type": "code",
   "execution_count": null,
   "outputs": [],
   "source": [
    "plt.figure(figsize=(12, 6))\n",
    "plt.plot(history.history['accuracy'], label='Точність на навчанні')\n",
    "plt.plot(history.history['val_accuracy'], label='Точність на валідації')\n",
    "plt.plot(history.history['loss'], label='Втрати на навчанні')\n",
    "plt.plot(history.history['val_loss'], label='Втрати на валідації')\n",
    "plt.grid(True)\n",
    "plt.xlabel('Епоха')\n",
    "plt.ylabel('Точність')\n",
    "plt.legend(loc='right')\n",
    "plt.show()"
   ],
   "metadata": {
    "collapsed": false
   },
   "id": "27dc30b2c117577f"
  },
  {
   "cell_type": "code",
   "execution_count": null,
   "outputs": [],
   "source": [
    "import random\n",
    "num_samples = 10\n",
    "random_indices = [random.randint(0, len(x_test) - 1) for _ in range(num_samples)]\n",
    "sample_images = [x_test[i] for i in random_indices]\n",
    "sample_labels = [y_test[i] for i in random_indices]\n",
    "\n",
    "predictions = model.predict(np.array(sample_images))\n",
    "\n",
    "class_names = [\"Футболка\", \"Штаны\", \"Світшот\", \"Сукня\", \"Пальто\", \"Босоніжки\", \"Сорочка\", \"Кросівки\", \"Сумка\", \"ботильйони\"]\n",
    "predicted_labels = [class_names[np.argmax(prediction)] for prediction in predictions]"
   ],
   "metadata": {
    "collapsed": false
   },
   "id": "4a079254217bd296"
  },
  {
   "cell_type": "code",
   "execution_count": null,
   "outputs": [],
   "source": [
    "plt.figure(figsize=(15, 10))\n",
    "for i in range(num_samples):\n",
    "    plt.subplot(1, num_samples, i + 1)\n",
    "    plt.imshow(sample_images[i], cmap=plt.cm.binary)\n",
    "    plt.title(f'Правильно:\\n {class_names[sample_labels[i]]}\\n\\nПредсказано:\\n {predicted_labels[i]}', color=('green' if predicted_labels[i] == class_names[sample_labels[i]] else 'red'))\n",
    "    plt.axis('off')\n",
    "plt.show()"
   ],
   "metadata": {
    "collapsed": false
   },
   "id": "ff5f1f53f1fc548c"
  },
  {
   "cell_type": "code",
   "execution_count": null,
   "outputs": [],
   "source": [
    "#Висновок:CNN показала собою кращі результати у класифікації зображень одягу порівняно з багатошаровою мережею.\n",
    "#Основним фактором, який може покращити точність моделі CNN, є управління перенавчанням, наприклад, використання регуляризації моделі або збільшення кількості даних для навчання.\n",
    "#Модель CNN здатна робити класифікацію зображень одягу на дуже високому рівні точності, що робить її відмінним вибором для подібних завдань."
   ],
   "metadata": {
    "collapsed": false
   },
   "id": "32fbe719e0c454c"
  }
 ],
 "metadata": {
  "kernelspec": {
   "display_name": "Python 3",
   "language": "python",
   "name": "python3"
  },
  "language_info": {
   "codemirror_mode": {
    "name": "ipython",
    "version": 2
   },
   "file_extension": ".py",
   "mimetype": "text/x-python",
   "name": "python",
   "nbconvert_exporter": "python",
   "pygments_lexer": "ipython2",
   "version": "2.7.6"
  }
 },
 "nbformat": 4,
 "nbformat_minor": 5
}
