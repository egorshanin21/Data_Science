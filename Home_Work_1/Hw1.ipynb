{
  "metadata": {
    "language_info": {
      "codemirror_mode": {
        "name": "python",
        "version": 3
      },
      "file_extension": ".py",
      "mimetype": "text/x-python",
      "name": "python",
      "nbconvert_exporter": "python",
      "pygments_lexer": "ipython3",
      "version": "3.8"
    },
    "kernelspec": {
      "name": "python",
      "display_name": "Python (Pyodide)",
      "language": "python"
    }
  },
  "nbformat_minor": 4,
  "nbformat": 4,
  "cells": [
    {
      "cell_type": "code",
      "source": "import numpy as np",
      "metadata": {
        "trusted": true
      },
      "execution_count": 2,
      "outputs": []
    },
    {
      "cell_type": "code",
      "source": "vector = np.arange(1, 11)\nprint(vector)",
      "metadata": {
        "trusted": true
      },
      "execution_count": 9,
      "outputs": [
        {
          "name": "stdout",
          "text": "[ 1  2  3  4  5  6  7  8  9 10]\n",
          "output_type": "stream"
        }
      ]
    },
    {
      "cell_type": "code",
      "source": "matrix = np.zeros((3, 3))\nprint(matrix)",
      "metadata": {
        "trusted": true
      },
      "execution_count": 10,
      "outputs": [
        {
          "name": "stdout",
          "text": "[[0. 0. 0.]\n [0. 0. 0.]\n [0. 0. 0.]]\n",
          "output_type": "stream"
        }
      ]
    },
    {
      "cell_type": "code",
      "source": "random_matrix = np.random.randint(1, 11, (5, 5))\nprint(random_matrix)",
      "metadata": {
        "trusted": true
      },
      "execution_count": 11,
      "outputs": [
        {
          "name": "stdout",
          "text": "[[ 6  6 10  3  1]\n [ 9 10  2  9  2]\n [ 7  7  9  5  5]\n [ 8 10  7  6  2]\n [ 9 10  3  8  1]]\n",
          "output_type": "stream"
        }
      ]
    },
    {
      "cell_type": "code",
      "source": "random_float_matrix = np.random.rand(4, 4)\nprint(random_float_matrix)",
      "metadata": {
        "trusted": true
      },
      "execution_count": 12,
      "outputs": [
        {
          "name": "stdout",
          "text": "[[0.92171554 0.7662882  0.27648983 0.23545464]\n [0.72635598 0.39919159 0.47727227 0.13739226]\n [0.52479054 0.6297159  0.66497379 0.99348043]\n [0.22217347 0.25362517 0.95047368 0.96994896]]\n",
          "output_type": "stream"
        }
      ]
    },
    {
      "cell_type": "code",
      "source": "array1 = np.random.randint(1, 11, 5)\narray2 = np.random.randint(1, 11, 5)\naddition = array1 + array2\nsubtraction = array1 - array2\nmultiplication = array1 * array2\nprint(\"Addition:\", addition)\nprint(\"Subtraction:\", subtraction)\nprint(\"Multiplication:\", multiplication)",
      "metadata": {
        "trusted": true
      },
      "execution_count": 57,
      "outputs": [
        {
          "name": "stdout",
          "text": "Addition: [14 13 15 13 10]\nSubtraction: [ 4 -3 -3 -7  8]\nMultiplication: [45 40 54 30  9]\n",
          "output_type": "stream"
        }
      ]
    },
    {
      "cell_type": "code",
      "source": "vector1 = np.array([1, 2, 3, 4, 5, 6, 7])\nvector2 = np.array([7, 6, 5, 4, 3, 2, 1])\ndot_product = np.dot(vector1, vector2)\nprint(\"Dot product:\", dot_product)",
      "metadata": {
        "trusted": true
      },
      "execution_count": 54,
      "outputs": [
        {
          "name": "stdout",
          "text": "Dot product: 84\n",
          "output_type": "stream"
        }
      ]
    },
    {
      "cell_type": "code",
      "source": "matrix1 = np.random.randint(1, 11, (2, 2))\nmatrix2 = np.random.randint(1, 11, (2, 3))\nmatrix_product = np.dot(matrix1, matrix2)\nprint(\"Matrix product:\")\nprint(matrix_product)",
      "metadata": {
        "trusted": true
      },
      "execution_count": 55,
      "outputs": [
        {
          "name": "stdout",
          "text": "Matrix product:\n[[128 118 120]\n [ 58  53  50]]\n",
          "output_type": "stream"
        }
      ]
    },
    {
      "cell_type": "code",
      "source": "matrix3 = np.random.randint(1, 11, (3, 3))\ninverse_matrix = np.linalg.inv(matrix3)\nprint(\"Inverse matrix:\")\nprint(inverse_matrix)",
      "metadata": {
        "trusted": true
      },
      "execution_count": 56,
      "outputs": [
        {
          "name": "stdout",
          "text": "Inverse matrix:\n[[ 0.0026178  -0.09685864  0.10732984]\n [-0.19109948  0.07068063  0.16492147]\n [ 0.21465969  0.05759162 -0.19895288]]\n",
          "output_type": "stream"
        }
      ]
    },
    {
      "cell_type": "code",
      "source": "matrix4 = np.random.rand(4, 4)\ntransposed_matrix = np.transpose(matrix4)\nprint(\"Transposed matrix:\")\nprint(transposed_matrix)",
      "metadata": {
        "trusted": true
      },
      "execution_count": 51,
      "outputs": [
        {
          "name": "stdout",
          "text": "Transposed matrix:\n[[0.89920292 0.52690034 0.52147433 0.40187339]\n [0.84283309 0.44209022 0.11111361 0.59741717]\n [0.65696057 0.69004006 0.68737403 0.88061163]\n [0.67128211 0.90591819 0.77888865 0.86356931]]\n",
          "output_type": "stream"
        }
      ]
    },
    {
      "cell_type": "code",
      "source": "matrix5 = np.random.randint(1, 11, (3, 4))\nvector3 = np.random.randint(1, 11, 4)\nmatrix_vector_product = np.dot(matrix5, vector3)\nprint(\"Matrix-vector product:\")\nprint(matrix_vector_product)",
      "metadata": {
        "trusted": true
      },
      "execution_count": 50,
      "outputs": [
        {
          "name": "stdout",
          "text": "Matrix-vector product:\n[138 250 182]\n",
          "output_type": "stream"
        }
      ]
    },
    {
      "cell_type": "code",
      "source": "matrix6 = np.random.rand(2, 3)\nvector4 = np.random.rand(3)\nmatrix_vector_product2 = np.dot(matrix6, vector4)\nprint(\"Matrix-vector product 2:\")\nprint(matrix_vector_product2)",
      "metadata": {
        "trusted": true
      },
      "execution_count": 49,
      "outputs": [
        {
          "name": "stdout",
          "text": "Matrix-vector product 2:\n[0.2369928  1.19799691]\n",
          "output_type": "stream"
        }
      ]
    },
    {
      "cell_type": "code",
      "source": "matrix7 = np.random.randint(1, 11, (2, 2))\nmatrix8 = np.random.randint(1, 11, (2, 2))\nelementwise_multiplication = matrix7 * matrix8\nprint(\"Elementwise multiplication:\")\nprint(elementwise_multiplication)",
      "metadata": {
        "trusted": true
      },
      "execution_count": 48,
      "outputs": [
        {
          "name": "stdout",
          "text": "Elementwise multiplication:\n[[ 7 16]\n [18 63]]\n",
          "output_type": "stream"
        }
      ]
    },
    {
      "cell_type": "code",
      "source": "matrix9 = np.random.randint(1, 11, (2, 2))\nmatrix10 = np.random.randint(1, 11, (2, 2))\nmatrix_product2 = np.dot(matrix9, matrix10)\nprint(\"Matrix product 2:\")\nprint(matrix_product2)",
      "metadata": {
        "trusted": true
      },
      "execution_count": 47,
      "outputs": [
        {
          "name": "stdout",
          "text": "Matrix product 2:\n[[91 55]\n [36 75]]\n",
          "output_type": "stream"
        }
      ]
    },
    {
      "cell_type": "code",
      "source": "matrix11 = np.random.randint(1, 101, (5, 5))\nmatrix_sum = np.sum(matrix11)\nprint(\"Matrix sum:\", matrix_sum)",
      "metadata": {
        "trusted": true
      },
      "execution_count": 46,
      "outputs": [
        {
          "name": "stdout",
          "text": "Matrix sum: 1308\n",
          "output_type": "stream"
        }
      ]
    },
    {
      "cell_type": "code",
      "source": "matrix12 = np.random.randint(1, 11, (4, 4))\nmatrix13 = np.random.randint(1, 11, (4, 4))\nmatrix_difference = matrix12 - matrix13\nprint(\"Matrix difference:\")\nprint(matrix_difference)",
      "metadata": {
        "trusted": true
      },
      "execution_count": 45,
      "outputs": [
        {
          "name": "stdout",
          "text": "Matrix difference:\n[[ 5  3  7 -1]\n [-4 -1 -3 -2]\n [-5  2 -1  2]\n [-2 -4  6  7]]\n",
          "output_type": "stream"
        }
      ]
    },
    {
      "cell_type": "code",
      "source": "matrix14 = np.random.rand(3, 3)\nrow_sums = np.sum(matrix14, axis=1)\ncolumn_vector = np.reshape(row_sums, (3, 1))\nprint(\"Column vector:\")\nprint(column_vector)",
      "metadata": {
        "trusted": true
      },
      "execution_count": 44,
      "outputs": [
        {
          "name": "stdout",
          "text": "Column vector:\n[[1.75252846]\n [1.02093905]\n [2.2419759 ]]\n",
          "output_type": "stream"
        }
      ]
    },
    {
      "cell_type": "code",
      "source": "matrix15 = np.random.randint(-10, 10, (3, 4))\nsquared_matrix = np.square(matrix15)\nprint(\"Squared matrix:\")\nprint(squared_matrix)",
      "metadata": {
        "trusted": true
      },
      "execution_count": 43,
      "outputs": [
        {
          "name": "stdout",
          "text": "Squared matrix:\n[[  1  49   4 100]\n [  1  36   1  36]\n [  9   9  36  25]]\n",
          "output_type": "stream"
        }
      ]
    },
    {
      "cell_type": "code",
      "source": "vector5 = np.random.randint(1, 51, 4)\nsqrt_vector = np.sqrt(vector5)\nprint(\"Square root vector:\")\nprint(sqrt_vector)",
      "metadata": {
        "trusted": true
      },
      "execution_count": 42,
      "outputs": [
        {
          "name": "stdout",
          "text": "Square root vector:\n[4.47213595 1.         5.38516481 3.74165739]\n",
          "output_type": "stream"
        }
      ]
    },
    {
      "cell_type": "code",
      "source": "",
      "metadata": {},
      "execution_count": null,
      "outputs": []
    }
  ]
}