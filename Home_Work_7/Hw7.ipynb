{
  "cells": [
    {
      "cell_type": "code",
      "execution_count": 3,
      "metadata": {
        "id": "hEQwmnhr4Xs1"
      },
      "outputs": [],
      "source": [
        "from surprise import Dataset, Reader\n",
        "from surprise.model_selection import cross_validate, GridSearchCV\n",
        "from surprise.prediction_algorithms import SVD, SVDpp, NMF"
      ]
    },
    {
      "cell_type": "code",
      "execution_count": 8,
      "metadata": {
        "id": "UB9fAH_Z5YuU"
      },
      "outputs": [],
      "source": [
        "data = Dataset.load_builtin('ml-100k')\n",
        "\n",
        "reader = Reader(line_format='user item rating timestamp', sep='\\t')\n",
        "\n",
        "data = Dataset.load_from_file('/content/drive/MyDrive/Data_science/hw_07/ml-100k/u.data', reader=reader)"
      ]
    },
    {
      "cell_type": "code",
      "execution_count": 9,
      "metadata": {
        "id": "gKJgXlQX6kXP"
      },
      "outputs": [],
      "source": [
        "algorithms = [SVD(), SVDpp(), NMF()]"
      ]
    },
    {
      "cell_type": "code",
      "execution_count": null,
      "metadata": {
        "colab": {
          "base_uri": "https://localhost:8080/"
        },
        "id": "I_C1J6-e6pqd",
        "outputId": "9ee219de-337c-49f9-f6ae-43d583fc5007"
      },
      "outputs": [],
      "source": [
        "for algo in algorithms:\n",
        "    results = cross_validate(algo, data, measures=['RMSE'], cv=3, verbose=True)\n",
        "    print(f'RMSE for {algo}: {results[\"test_rmse\"].mean()}')"
      ]
    }
  ],
  "metadata": {
    "colab": {
      "provenance": []
    },
    "kernelspec": {
      "display_name": "Python 3",
      "name": "python3"
    },
    "language_info": {
      "name": "python"
    }
  },
  "nbformat": 4,
  "nbformat_minor": 0
}
