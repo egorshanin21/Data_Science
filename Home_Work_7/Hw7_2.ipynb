{
  "metadata": {
    "language_info": {
      "codemirror_mode": {
        "name": "python",
        "version": 3
      },
      "file_extension": ".py",
      "mimetype": "text/x-python",
      "name": "python",
      "nbconvert_exporter": "python",
      "pygments_lexer": "ipython3",
      "version": "3.8"
    },
    "kernelspec": {
      "name": "python",
      "display_name": "Python (Pyodide)",
      "language": "python"
    }
  },
  "nbformat_minor": 4,
  "nbformat": 4,
  "cells": [
    {
      "cell_type": "code",
      "source": "from scipy.io import loadmat\nimport numpy as np\nimport matplotlib.pyplot as plt",
      "metadata": {
        "trusted": true
      },
      "execution_count": 5,
      "outputs": []
    },
    {
      "cell_type": "code",
      "source": "def loadMovieList():\n    \"\"\"\n    Reads the fixed movie list in movie_ids.txt and returns a list of movie names.\n    Returns\n    -------\n    movieNames : list\n        A list of strings, representing all movie names.\n    \"\"\"\n    # Read the fixed movieulary list\n    with open('/home/Course_GoIT/Data_Science/Home_Work_7/movie_ids.txt', encoding='ISO-8859-1') as fid:\n        movies = fid.readlines()\n\n    movieNames = []\n    for movie in movies:\n        parts = movie.split()\n        movieNames.append(' '.join(parts[1:]).strip())\n    return movieNames",
      "metadata": {
        "trusted": true
      },
      "execution_count": 12,
      "outputs": []
    },
    {
      "cell_type": "code",
      "source": "names = loadMovieList()",
      "metadata": {
        "trusted": true
      },
      "execution_count": null,
      "outputs": []
    },
    {
      "cell_type": "code",
      "source": "# Load data\ndata = loadmat('/home/Course_GoIT/Data_Science/Home_Work_7/movies.mat')\nY, R = data['Y'], data['R']\n\n# Y is a 1682x943 matrix, containing ratings (1-5) of\n# 1682 movies on 943 users\n\n# R is a 1682x943 matrix, where R(i,j) = 1\n# if and only if user j gave a rating to movie i\n\n# From the matrix, we can compute statistics like average rating.\nprint('Average rating for movie 1601 (',names[1600] ,'): %f / 5' %\n      np.mean(Y[1600, R[0, :]]))\n\n# We can \"visualize\" the ratings matrix by plotting it with imshow\nplt.figure(figsize=(8, 8))\nplt.imshow(Y)\nplt.ylabel('Movies')\nplt.xlabel('Users')\nplt.grid(False)",
      "metadata": {
        "trusted": true
      },
      "execution_count": null,
      "outputs": []
    },
    {
      "cell_type": "code",
      "source": "def cofiCostFunc(params, Y, R, num_users, num_movies, num_features, lambda_=0.0):\n    X = params[:num_movies * num_features].reshape((num_movies, num_features))\n    Theta = params[num_movies * num_features:].reshape((num_users, num_features))\n\n    predictions = np.dot(X, Theta.T)\n\n    error = (predictions - Y) * R\n    J = 0.5 * np.sum(error**2)\n\n    J += (lambda_ / 2.0) * (np.sum(Theta**2) + np.sum(X**2))\n\n    X_grad = np.dot(error, Theta) + lambda_ * X\n    Theta_grad = np.dot(error.T, X) + lambda_ * Theta\n\n    grad = np.concatenate([X_grad.ravel(), Theta_grad.ravel()])\n\n    return J, grad",
      "metadata": {
        "trusted": true
      },
      "execution_count": 9,
      "outputs": []
    },
    {
      "cell_type": "code",
      "source": "movieList = loadMovieList()",
      "metadata": {},
      "execution_count": null,
      "outputs": []
    },
    {
      "cell_type": "code",
      "source": "movies_id_list = [0, 97, 6, 11, 53, 63, 65, 68, 182, 225, 354]\n\nfor movie in movies_id_list:\n  print(movieList[movie])",
      "metadata": {},
      "execution_count": null,
      "outputs": []
    },
    {
      "cell_type": "code",
      "source": "pip install surprise",
      "metadata": {
        "trusted": true
      },
      "execution_count": null,
      "outputs": []
    },
    {
      "cell_type": "code",
      "source": "import pandas as pd\nfrom surprise import SVD\nfrom surprise import Dataset, Reader\nfrom surprise.model_selection import train_test_split\n\nuser_movie_ratings = []\nfor user_id, row in enumerate(R):\n    for movie_id, rating in enumerate(row):\n      if rating == 1:\n        user_movie_ratings.append((user_id, movie_id, Y[user_id, movie_id]))\n\ndf = pd.DataFrame(user_movie_ratings, columns=['user', 'item', 'rating'])\n\nreader = Reader(line_format='user item rating', sep='\\t')\ndata = Dataset.load_from_df(df[['user', 'item', 'rating']], reader=reader)\n\ntrainset, testset = train_test_split(data, test_size=0.2)\n\nmodel = SVD()\n\nmodel.fit(trainset)\n\nuser_id = 1\nN = 10  \n\nuser_ratings = model.test([(user_id, movie_id, 0) for movie_id in range(len(Y[0]))])\n\ntop_n = sorted(user_ratings, key=lambda x: x.est, reverse=True)[:N]\n\nfor i, prediction in enumerate(top_n):\n      print(f\"{i + 1}: Фільм з ідентифікатором {prediction.iid}, Прогнозована оцінка: {prediction.est}\")",
      "metadata": {
        "trusted": true
      },
      "execution_count": null,
      "outputs": []
    }
  ]
}