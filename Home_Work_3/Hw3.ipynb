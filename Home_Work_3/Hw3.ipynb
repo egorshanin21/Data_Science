{
 "cells": [
  {
   "cell_type": "code",
   "execution_count": 19,
   "id": "initial_id",
   "metadata": {
    "collapsed": true,
    "ExecuteTime": {
     "end_time": "2023-08-28T10:24:37.487907797Z",
     "start_time": "2023-08-28T10:24:37.463608108Z"
    }
   },
   "outputs": [],
   "source": [
    "import numpy as np"
   ]
  },
  {
   "cell_type": "code",
   "execution_count": 20,
   "outputs": [],
   "source": [
    "# Функція гіпотези лінійної регресії у векторному вигляді\n",
    "def h(w_0, w_1, x):\n",
    "    theta = np.array([w_0, w_1])\n",
    "    x_vector = np.array([1, x])\n",
    "    return np.dot(theta, x_vector)"
   ],
   "metadata": {
    "collapsed": false,
    "ExecuteTime": {
     "end_time": "2023-08-28T10:24:37.508883881Z",
     "start_time": "2023-08-28T10:24:37.464232496Z"
    }
   },
   "id": "d0bade43320497f8"
  },
  {
   "cell_type": "code",
   "execution_count": 21,
   "outputs": [],
   "source": [
    "# Функція для обчислення функції втрат у векторному вигляді\n",
    "def compute_cost(theta, X, y):\n",
    "    m = len(y)\n",
    "    predictions = np.dot(X, theta)\n",
    "    cost = np.sum((predictions - y)**2) / (2 * m)\n",
    "    return cost"
   ],
   "metadata": {
    "collapsed": false,
    "ExecuteTime": {
     "end_time": "2023-08-28T10:24:37.528527177Z",
     "start_time": "2023-08-28T10:24:37.469413537Z"
    }
   },
   "id": "6298132156dcdfa1"
  },
  {
   "cell_type": "code",
   "execution_count": 22,
   "outputs": [],
   "source": [
    "# Oдин крок градієнтного спуску\n",
    "def gradient_descent_step(theta, X, y, learning_rate):\n",
    "    m = len(y)\n",
    "    predictions = np.dot(X, theta)\n",
    "    errors = predictions - y\n",
    "    gradient = (1 / m) * np.dot(X.T, errors)\n",
    "    new_theta = theta - learning_rate * gradient\n",
    "    return new_theta\n",
    "     \n"
   ],
   "metadata": {
    "collapsed": false,
    "ExecuteTime": {
     "end_time": "2023-08-28T10:24:37.528903394Z",
     "start_time": "2023-08-28T10:24:37.509460158Z"
    }
   },
   "id": "c6fc4462949823b5"
  },
  {
   "cell_type": "code",
   "execution_count": 23,
   "outputs": [],
   "source": [
    "# Hайкращі параметри для датасету прогнозуючу ціну на будинок залежно від площі, кількості ванних кімнат та кількості спалень:\n",
    "import pandas as pd\n",
    "import numpy as np\n",
    "from sklearn.preprocessing import StandardScaler\n",
    "\n",
    "data = pd.read_csv('Housing.csv')\n",
    "\n",
    "X = data[['area', 'bedrooms', 'bathrooms']]\n",
    "y = data['price']\n",
    "\n",
    "scaler = StandardScaler()\n",
    "X_scaled = scaler.fit_transform(X)\n",
    "\n",
    "X_normalized = np.column_stack((np.ones(len(X_scaled)), X_scaled))\n",
    "\n",
    "learning_rate = 0.001\n",
    "num_iterations = 10000\n",
    "\n",
    "def gradient_descent(X, y, learning_rate, num_iterations):\n",
    "    m, n = X.shape\n",
    "    w = np.random.rand(n)\n",
    "\n",
    "    for _ in range(num_iterations):\n",
    "        predictions = np.dot(X, w)\n",
    "        errors = predictions - y\n",
    "        gradient = (1 / m) * np.dot(X.T, errors)\n",
    "        w -= learning_rate * gradient\n",
    "\n",
    "    return w\n",
    "\n",
    "optimal_w = gradient_descent(X_normalized, y, learning_rate, num_iterations)"
   ],
   "metadata": {
    "collapsed": false,
    "ExecuteTime": {
     "end_time": "2023-08-28T10:24:38.129984966Z",
     "start_time": "2023-08-28T10:24:37.509611596Z"
    }
   },
   "id": "fcdf69bb1aa1fb26"
  },
  {
   "cell_type": "code",
   "execution_count": 24,
   "outputs": [],
   "source": [
    "# Аналітичне рішення\n",
    "def analytical_solution(X, y):\n",
    "    theta = np.linalg.inv(X.T.dot(X)).dot(X.T).dot(y)\n",
    "    return theta"
   ],
   "metadata": {
    "collapsed": false,
    "ExecuteTime": {
     "end_time": "2023-08-28T10:24:38.174266637Z",
     "start_time": "2023-08-28T10:24:38.132030089Z"
    }
   },
   "id": "79c139f289aee02d"
  },
  {
   "cell_type": "code",
   "execution_count": 25,
   "outputs": [
    {
     "name": "stdout",
     "output_type": "stream",
     "text": [
      "Optimal_w_gradient: [4766513.91863758  821197.96105075  300302.25304292  695511.07835548]\n",
      "Optimal_w_analytical: [4766729.24770642  821214.14349519  299983.57107963  695808.52272538]\n"
     ]
    }
   ],
   "source": [
    "# Порівняння отриманих результатів\n",
    "optimal_w_gradient = gradient_descent(X_normalized, y, learning_rate, num_iterations)\n",
    "optimal_w_analytical = analytical_solution(X_normalized, y)\n",
    "\n",
    "print(\"Optimal_w_gradient:\", optimal_w_gradient)\n",
    "print(\"Optimal_w_analytical:\", optimal_w_analytical)"
   ],
   "metadata": {
    "collapsed": false,
    "ExecuteTime": {
     "end_time": "2023-08-28T10:24:38.792761334Z",
     "start_time": "2023-08-28T10:24:38.174057339Z"
    }
   },
   "id": "84a3d0e207ebcc6a"
  }
 ],
 "metadata": {
  "kernelspec": {
   "display_name": "Python 3",
   "language": "python",
   "name": "python3"
  },
  "language_info": {
   "codemirror_mode": {
    "name": "ipython",
    "version": 2
   },
   "file_extension": ".py",
   "mimetype": "text/x-python",
   "name": "python",
   "nbconvert_exporter": "python",
   "pygments_lexer": "ipython2",
   "version": "2.7.6"
  }
 },
 "nbformat": 4,
 "nbformat_minor": 5
}
