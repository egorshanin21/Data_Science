{
 "cells": [
  {
   "cell_type": "code",
   "execution_count": null,
   "outputs": [],
   "source": [
    "import tensorflow as tf\n",
    "from tensorflow.keras import layers, models\n",
    "from tensorflow.keras.datasets import fashion_mnist\n",
    "import matplotlib.pyplot as plt\n",
    "import numpy as np"
   ],
   "metadata": {
    "collapsed": false
   },
   "id": "initial_id"
  },
  {
   "cell_type": "code",
   "execution_count": null,
   "outputs": [],
   "source": [
    "(train_images, train_labels), (test_images, test_labels) = fashion_mnist.load_data()\n",
    "train_images, test_images = train_images / 255.0, test_images / 255.0"
   ],
   "metadata": {
    "collapsed": false
   },
   "id": "fa80fed185ede4f4"
  },
  {
   "cell_type": "code",
   "execution_count": null,
   "outputs": [],
   "source": [
    "batch_size = 64\n",
    "epochs = 20"
   ],
   "metadata": {
    "collapsed": false
   },
   "id": "bed4999a49037c65"
  },
  {
   "cell_type": "code",
   "execution_count": null,
   "outputs": [],
   "source": [
    "model = models.Sequential([\n",
    "    layers.Flatten(input_shape=(28, 28)),\n",
    "    layers.Dense(512, activation='relu'),\n",
    "    layers.Dense(256, activation='relu'),\n",
    "    layers.Dense(128, activation='relu'),\n",
    "    layers.Dropout(0.2),\n",
    "    layers.Dense(10, activation='softmax')\n",
    "])"
   ],
   "metadata": {
    "collapsed": false
   },
   "id": "2ea2dee6ce2d343c"
  },
  {
   "cell_type": "code",
   "execution_count": null,
   "outputs": [],
   "source": [
    "model.compile(optimizer='adam',\n",
    "              loss='sparse_categorical_crossentropy',\n",
    "              metrics=['accuracy'])"
   ],
   "metadata": {
    "collapsed": false
   },
   "id": "520c688909e9a941"
  },
  {
   "cell_type": "code",
   "execution_count": null,
   "outputs": [],
   "source": [
    "history = model.fit(train_images, train_labels, epochs=epochs, batch_size=batch_size, validation_data=(test_images, test_labels))"
   ],
   "metadata": {
    "collapsed": false
   },
   "id": "d47db47a605d25ae"
  },
  {
   "cell_type": "code",
   "execution_count": null,
   "outputs": [],
   "source": [
    "test_loss, test_acc = model.evaluate(test_images,  test_labels, verbose=2)\n",
    "print(f'\\nТочність на тестових даних: {test_acc}')"
   ],
   "metadata": {
    "collapsed": false
   },
   "id": "29474908158d506f"
  },
  {
   "cell_type": "code",
   "execution_count": null,
   "outputs": [],
   "source": [
    "plt.figure(figsize=(12, 4))\n",
    "plt.subplot(1, 2, 1)\n",
    "plt.plot(history.history['accuracy'], label='Точність навчання')\n",
    "plt.plot(history.history['val_accuracy'], label = 'Точність валідації')\n",
    "plt.xlabel('Епоха')\n",
    "plt.ylabel('Точність')\n",
    "plt.ylim([0, 1])\n",
    "plt.legend(loc='lower right')\n",
    "\n",
    "plt.subplot(1, 2, 2)\n",
    "plt.plot(history.history['loss'], label='Функція втрат навчання')\n",
    "plt.plot(history.history['val_loss'], label = 'Функція втрат валідації')\n",
    "plt.xlabel('Епоха')\n",
    "plt.ylabel('Функція втрат')\n",
    "plt.ylim([0, 2])\n",
    "plt.legend(loc='upper right')\n",
    "\n",
    "plt.show()"
   ],
   "metadata": {
    "collapsed": false
   },
   "id": "e2da30038d9b3e5c"
  },
  {
   "cell_type": "code",
   "execution_count": null,
   "outputs": [],
   "source": [
    "random_indices = np.random.randint(0, len(test_images), size=10)\n",
    "random_images = test_images[random_indices]\n",
    "random_labels = test_labels[random_indices]\n",
    "predictions = model.predict(random_images)\n",
    "\n",
    "plt.figure(figsize=(12, 4))\n",
    "for i in range(10):\n",
    "    plt.subplot(2, 5, i + 1)\n",
    "    plt.imshow(random_images[i], cmap='gray')\n",
    "    plt.title(f'Мітка: {random_labels[i]}-Прогноз: {np.argmax(predictions[i])}')\n",
    "    plt.axis('off')\n",
    "\n",
    "plt.show()"
   ],
   "metadata": {
    "collapsed": false
   },
   "id": "9501ad6ef090ae1d"
  },
  {
   "cell_type": "code",
   "execution_count": null,
   "outputs": [],
   "source": [
    "Можна зробити наступний висновок:\n",
    "\n",
    "Нейронна мережа, яка створена з допомогою Keras, показала досить хорошу точність.\n",
    "\n",
    "В кінці 20 епох навчання точність на навчальних даних (train accuracy) складає близько 93.49%.\n",
    "\n",
    "Точність на валідаційних даних (val_accuracy) досягла близько 89.75% на останній епохі.\n",
    "\n",
    "Це означає, що модель добре класифікує зображення з датасету fashion_mnist в один з 10 можливих класів (наприклад, футболка, шорти, сукня тощо).\n",
    "\n",
    "Важливо також враховувати, що модель навчилася менше ніж за 1 хвилину, що є досить ефективним часом для досягнення такої точності. Це показує важливість оптимізації швидкості навчання та розміру мережі для досягнення балансу між точністю та часом навчання."
   ],
   "metadata": {
    "collapsed": false
   },
   "id": "f70719df0de52dfe"
  }
 ],
 "metadata": {
  "kernelspec": {
   "display_name": "Python 3",
   "language": "python",
   "name": "python3"
  },
  "language_info": {
   "codemirror_mode": {
    "name": "ipython",
    "version": 2
   },
   "file_extension": ".py",
   "mimetype": "text/x-python",
   "name": "python",
   "nbconvert_exporter": "python",
   "pygments_lexer": "ipython2",
   "version": "2.7.6"
  }
 },
 "nbformat": 4,
 "nbformat_minor": 5
}
